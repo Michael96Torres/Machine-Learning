{
 "cells": [
  {
   "cell_type": "markdown",
   "metadata": {},
   "source": [
    "# **Gamma Telescope (MAGIC) Report**\n",
    "\n",
    "##### This dataset has been cleaned to consist of telescope data including length, width, size, distance and telesope classification.  Using this data and predictive modeling methods(Gaussian and Logistic Regression), machine learning will be utilized for predictive classification of the telescope(Gamma or Hadron).\n",
    "\n",
    "#### Link to Dataset: https://archive.ics.uci.edu/ml/datasets/MAGIC+Gamma+Telescope"
   ]
  },
  {
   "cell_type": "code",
   "execution_count": 302,
   "metadata": {},
   "outputs": [
    {
     "data": {
      "text/html": [
       "<div>\n",
       "<style scoped>\n",
       "    .dataframe tbody tr th:only-of-type {\n",
       "        vertical-align: middle;\n",
       "    }\n",
       "\n",
       "    .dataframe tbody tr th {\n",
       "        vertical-align: top;\n",
       "    }\n",
       "\n",
       "    .dataframe thead th {\n",
       "        text-align: right;\n",
       "    }\n",
       "</style>\n",
       "<table border=\"1\" class=\"dataframe\">\n",
       "  <thead>\n",
       "    <tr style=\"text-align: right;\">\n",
       "      <th></th>\n",
       "      <th>length</th>\n",
       "      <th>width</th>\n",
       "      <th>size</th>\n",
       "      <th>distance</th>\n",
       "      <th>class</th>\n",
       "    </tr>\n",
       "  </thead>\n",
       "  <tbody>\n",
       "    <tr>\n",
       "      <th>0</th>\n",
       "      <td>28.7967</td>\n",
       "      <td>16.0021</td>\n",
       "      <td>2.6449</td>\n",
       "      <td>81.8828</td>\n",
       "      <td>g</td>\n",
       "    </tr>\n",
       "    <tr>\n",
       "      <th>1</th>\n",
       "      <td>31.6036</td>\n",
       "      <td>11.7235</td>\n",
       "      <td>2.5185</td>\n",
       "      <td>205.2610</td>\n",
       "      <td>g</td>\n",
       "    </tr>\n",
       "    <tr>\n",
       "      <th>2</th>\n",
       "      <td>162.0520</td>\n",
       "      <td>136.0310</td>\n",
       "      <td>4.0612</td>\n",
       "      <td>256.7880</td>\n",
       "      <td>g</td>\n",
       "    </tr>\n",
       "    <tr>\n",
       "      <th>3</th>\n",
       "      <td>23.8172</td>\n",
       "      <td>9.5728</td>\n",
       "      <td>2.3385</td>\n",
       "      <td>116.7370</td>\n",
       "      <td>g</td>\n",
       "    </tr>\n",
       "    <tr>\n",
       "      <th>4</th>\n",
       "      <td>75.1362</td>\n",
       "      <td>30.9205</td>\n",
       "      <td>3.1611</td>\n",
       "      <td>356.4620</td>\n",
       "      <td>g</td>\n",
       "    </tr>\n",
       "  </tbody>\n",
       "</table>\n",
       "</div>"
      ],
      "text/plain": [
       "     length     width    size  distance class\n",
       "0   28.7967   16.0021  2.6449   81.8828     g\n",
       "1   31.6036   11.7235  2.5185  205.2610     g\n",
       "2  162.0520  136.0310  4.0612  256.7880     g\n",
       "3   23.8172    9.5728  2.3385  116.7370     g\n",
       "4   75.1362   30.9205  3.1611  356.4620     g"
      ]
     },
     "execution_count": 302,
     "metadata": {},
     "output_type": "execute_result"
    }
   ],
   "source": [
    "from sklearn.model_selection import train_test_split\n",
    "from sklearn.naive_bayes import GaussianNB\n",
    "from sklearn import metrics\n",
    "from sklearn.linear_model import SGDClassifier\n",
    "from sklearn.linear_model import SGDRegressor\n",
    "from sklearn.preprocessing import StandardScaler\n",
    "from sklearn.pipeline import make_pipeline\n",
    "from sklearn.calibration import CalibratedClassifierCV\n",
    "from sklearn.linear_model import RidgeClassifier\n",
    "from sklearn.ensemble import RandomForestClassifier\n",
    "from sklearn.metrics import brier_score_loss\n",
    "from sklearn.metrics import accuracy_score, confusion_matrix, f1_score, log_loss\n",
    "\n",
    "import numpy as np\n",
    "import pandas as pd\n",
    "\n",
    "dataSet=pd.read_csv('GammaTelescopeDataCleaned.csv')\n",
    "X = dataSet.iloc[:,:-1]\n",
    "y = dataSet.iloc[:,4]\n",
    "dataSet.head()\n",
    "\n"
   ]
  },
  {
   "cell_type": "markdown",
   "metadata": {},
   "source": [
    "### Using 80% of the dataset for training and 20% for testing the model"
   ]
  },
  {
   "cell_type": "code",
   "execution_count": 303,
   "metadata": {},
   "outputs": [],
   "source": [
    "X_train,X_test,y_train,y_test=train_test_split(X,y,test_size=0.20,random_state=42)"
   ]
  },
  {
   "cell_type": "markdown",
   "metadata": {},
   "source": [
    "### Setting up the Gaussian Model"
   ]
  },
  {
   "cell_type": "code",
   "execution_count": 304,
   "metadata": {},
   "outputs": [],
   "source": [
    "NBModel=GaussianNB()\n",
    "NBModel.fit(X_train,y_train)\n",
    "\n",
    "y_predicted=NBModel.predict(X_test)\n",
    "y_predicted_proba=NBModel.predict_proba(X_test)\n",
    "\n",
    "y_train_predicted=NBModel.predict(X_train)\n",
    "y_train_predicted_proba=NBModel.predict_proba(X_train)"
   ]
  },
  {
   "cell_type": "markdown",
   "metadata": {},
   "source": [
    "### Evaluation Metrics : Test Data"
   ]
  },
  {
   "cell_type": "code",
   "execution_count": 305,
   "metadata": {},
   "outputs": [
    {
     "name": "stdout",
     "output_type": "stream",
     "text": [
      "Classification Report\n",
      "              precision    recall  f1-score   support\n",
      "\n",
      "           g       0.71      0.91      0.80      2460\n",
      "           h       0.65      0.32      0.43      1344\n",
      "\n",
      "    accuracy                           0.70      3804\n",
      "   macro avg       0.68      0.61      0.61      3804\n",
      "weighted avg       0.69      0.70      0.67      3804\n",
      "\n",
      "Confusion Matrix\n",
      "[[2227  233]\n",
      " [ 915  429]]\n"
     ]
    }
   ],
   "source": [
    "print(\"Classification Report\")\n",
    "print(metrics.classification_report(y_test,y_predicted))\n",
    "\n",
    "print(\"Confusion Matrix\")\n",
    "print(metrics.confusion_matrix(y_test,y_predicted))"
   ]
  },
  {
   "cell_type": "code",
   "execution_count": 306,
   "metadata": {},
   "outputs": [
    {
     "name": "stdout",
     "output_type": "stream",
     "text": [
      "Accuracy =  69.82124079915877\n",
      "Sensitivity =  0.31919642857142855\n",
      "Specificity =  0.9052845528455284\n",
      "f1-score =  0.6982124079915878\n",
      "log loss =  0.8496213023668047\n"
     ]
    }
   ],
   "source": [
    "print(\"Accuracy = \",accuracy_score(y_test,y_predicted)*100)\n",
    "print(\"Sensitivity = \", 429/(429+915))\n",
    "print(\"Specificity = \", 2227/(2227+233))\n",
    "print(\"f1-score = \",metrics.f1_score(y_test,y_predicted, average=\"micro\"))\n",
    "print(\"log loss = \", metrics.log_loss(y_test,y_predicted_proba))"
   ]
  },
  {
   "cell_type": "markdown",
   "metadata": {},
   "source": [
    "### Evaluation Metrics : Training Data"
   ]
  },
  {
   "cell_type": "code",
   "execution_count": 307,
   "metadata": {},
   "outputs": [
    {
     "name": "stdout",
     "output_type": "stream",
     "text": [
      "Classification Report\n",
      "              precision    recall  f1-score   support\n",
      "\n",
      "           g       0.71      0.90      0.80      9872\n",
      "           h       0.64      0.33      0.43      5344\n",
      "\n",
      "    accuracy                           0.70     15216\n",
      "   macro avg       0.68      0.61      0.62     15216\n",
      "weighted avg       0.69      0.70      0.67     15216\n",
      "\n",
      "Confusion Matrix\n",
      "[[8900  972]\n",
      " [3592 1752]]\n"
     ]
    }
   ],
   "source": [
    "print(\"Classification Report\")\n",
    "print(metrics.classification_report(y_train,y_train_predicted))\n",
    "\n",
    "print(\"Confusion Matrix\")\n",
    "print(metrics.confusion_matrix(y_train,y_train_predicted))"
   ]
  },
  {
   "cell_type": "code",
   "execution_count": 308,
   "metadata": {},
   "outputs": [
    {
     "name": "stdout",
     "output_type": "stream",
     "text": [
      "Accuracy =  70.00525762355416\n",
      "Sensitivity =  0.3278443113772455\n",
      "Specificity =  0.9015397082658023\n",
      "f1-score =  0.7000525762355415\n",
      "log loss =  0.8396647741269704\n"
     ]
    }
   ],
   "source": [
    "print(\"Accuracy = \",accuracy_score(y_train,y_train_predicted)*100)\n",
    "print(\"Sensitivity = \", 1752/(1752+3592))\n",
    "print(\"Specificity = \", 8900/(8900+972))\n",
    "print(\"f1-score = \",metrics.f1_score(y_train,y_train_predicted, average=\"micro\"))\n",
    "print(\"log loss = \", metrics.log_loss(y_train,y_train_predicted_proba))"
   ]
  },
  {
   "cell_type": "markdown",
   "metadata": {},
   "source": [
    "# Logistic Regression "
   ]
  },
  {
   "cell_type": "code",
   "execution_count": 310,
   "metadata": {},
   "outputs": [
    {
     "name": "stdout",
     "output_type": "stream",
     "text": [
      "Test score:  0.7381703470031545\n",
      "Training score:  0.7383017875920084\n"
     ]
    }
   ],
   "source": [
    "clf = make_pipeline(StandardScaler(), SGDClassifier(max_iter=1000, tol=1e-3))\n",
    "clf.fit(X_train, y_train)\n",
    "clf_predicted = clf.predict(X_test)\n",
    "clf_train_predicted=clf.predict(X_train)\n",
    "\n",
    "print(\"Test score: \",clf.score(X_test,y_test))\n",
    "print(\"Training score: \",clf.score(X_train,y_train))"
   ]
  },
  {
   "cell_type": "markdown",
   "metadata": {},
   "source": [
    "### Evaluation Metrics: Test Data"
   ]
  },
  {
   "cell_type": "code",
   "execution_count": 311,
   "metadata": {},
   "outputs": [
    {
     "name": "stdout",
     "output_type": "stream",
     "text": [
      "Classification Report\n",
      "              precision    recall  f1-score   support\n",
      "\n",
      "           g       0.72      0.98      0.83      2460\n",
      "           h       0.89      0.30      0.44      1344\n",
      "\n",
      "    accuracy                           0.74      3804\n",
      "   macro avg       0.80      0.64      0.64      3804\n",
      "weighted avg       0.78      0.74      0.69      3804\n",
      "\n",
      "Confusion Matrix\n",
      "[[2411   49]\n",
      " [ 947  397]]\n"
     ]
    }
   ],
   "source": [
    "print(\"Classification Report\")\n",
    "print(metrics.classification_report(y_test,clf_predicted))\n",
    "\n",
    "print(\"Confusion Matrix\")\n",
    "print(metrics.confusion_matrix(y_test,clf_predicted))"
   ]
  },
  {
   "cell_type": "code",
   "execution_count": 312,
   "metadata": {},
   "outputs": [
    {
     "name": "stdout",
     "output_type": "stream",
     "text": [
      "Accuracy =  73.81703470031546\n",
      "Sensitivity =  0.24627976190476192\n",
      "Specificity =  0.9886178861788618\n",
      "f1-score =  0.7381703470031546\n",
      "log loss =  0.8496213023668047\n"
     ]
    }
   ],
   "source": [
    "print(\"Accuracy = \",accuracy_score(y_test,clf_predicted)*100)\n",
    "print(\"Sensitivity = \", 331/(331+1013))\n",
    "print(\"Specificity = \", 2432/(2432+28))\n",
    "print(\"f1-score = \",metrics.f1_score(y_test,clf_predicted, average=\"micro\"))\n",
    "print(\"log loss = \", metrics.log_loss(y_test,y_predicted_proba))"
   ]
  },
  {
   "cell_type": "markdown",
   "metadata": {},
   "source": [
    "### Evaluation Metrics: Training Data"
   ]
  },
  {
   "cell_type": "code",
   "execution_count": 313,
   "metadata": {},
   "outputs": [
    {
     "name": "stdout",
     "output_type": "stream",
     "text": [
      "Classification Report\n",
      "              precision    recall  f1-score   support\n",
      "\n",
      "           g       0.72      0.98      0.83      9872\n",
      "           h       0.88      0.29      0.44      5344\n",
      "\n",
      "    accuracy                           0.74     15216\n",
      "   macro avg       0.80      0.64      0.64     15216\n",
      "weighted avg       0.78      0.74      0.69     15216\n",
      "\n",
      "Confusion Matrix\n",
      "[[9660  212]\n",
      " [3770 1574]]\n"
     ]
    }
   ],
   "source": [
    "print(\"Classification Report\")\n",
    "print(metrics.classification_report(y_train,clf_train_predicted))\n",
    "\n",
    "print(\"Confusion Matrix\")\n",
    "print(metrics.confusion_matrix(y_train,clf_train_predicted))"
   ]
  },
  {
   "cell_type": "code",
   "execution_count": 314,
   "metadata": {},
   "outputs": [
    {
     "name": "stdout",
     "output_type": "stream",
     "text": [
      "Accuracy =  73.83017875920083\n",
      "Sensitivity =  0.23970808383233533\n",
      "Specificity =  0.9881482982171799\n",
      "f1-score =  0.7383017875920085\n",
      "log loss =  0.8396647741269704\n"
     ]
    }
   ],
   "source": [
    "print(\"Accuracy = \",accuracy_score(y_train,clf_train_predicted)*100)\n",
    "print(\"Sensitivity = \", 1281/(1281+4063))\n",
    "print(\"Specificity = \", 9755/(9755+117))\n",
    "print(\"f1-score = \",metrics.f1_score(y_train,clf_train_predicted, average=\"micro\"))\n",
    "print(\"log loss = \", metrics.log_loss(y_train,y_train_predicted_proba))"
   ]
  }
 ],
 "metadata": {
  "kernelspec": {
   "display_name": "Python 3.9.13 ('base')",
   "language": "python",
   "name": "python3"
  },
  "language_info": {
   "codemirror_mode": {
    "name": "ipython",
    "version": 3
   },
   "file_extension": ".py",
   "mimetype": "text/x-python",
   "name": "python",
   "nbconvert_exporter": "python",
   "pygments_lexer": "ipython3",
   "version": "3.9.13"
  },
  "orig_nbformat": 4,
  "vscode": {
   "interpreter": {
    "hash": "8cddbd2c01e0d4287a9319bff02504c288603c9ff24efb01a7292be918eca2fc"
   }
  }
 },
 "nbformat": 4,
 "nbformat_minor": 2
}
