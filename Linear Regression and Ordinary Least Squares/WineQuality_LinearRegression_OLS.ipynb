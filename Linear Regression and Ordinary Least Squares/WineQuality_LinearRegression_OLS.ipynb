{
 "cells": [
  {
   "cell_type": "markdown",
   "metadata": {},
   "source": [
    "# **Wine Quality Report**\n",
    "\n",
    "##### The dataset that was chosen consists of various attiributes related to the components of wine quality.  The dataset was cleaned to consist of attributes which allow for linear regression anlysis  These include a attributes consisting of fixed acidity, citric acid, residual sugar, pH, sulpates, and alcohol content.  Using ordinary least squares (OLS) and linear regression with gradient descent we aim to gain insight into this dataset with machine learning methods.  \n",
    "\n",
    "\n",
    "#### Link to Dataset: https://www.kaggle.com/datasets/uciml/red-wine-quality-cortez-et-al-2009"
   ]
  },
  {
   "cell_type": "code",
   "execution_count": 28,
   "metadata": {
    "tags": []
   },
   "outputs": [
    {
     "data": {
      "text/html": [
       "<div>\n",
       "<style scoped>\n",
       "    .dataframe tbody tr th:only-of-type {\n",
       "        vertical-align: middle;\n",
       "    }\n",
       "\n",
       "    .dataframe tbody tr th {\n",
       "        vertical-align: top;\n",
       "    }\n",
       "\n",
       "    .dataframe thead th {\n",
       "        text-align: right;\n",
       "    }\n",
       "</style>\n",
       "<table border=\"1\" class=\"dataframe\">\n",
       "  <thead>\n",
       "    <tr style=\"text-align: right;\">\n",
       "      <th></th>\n",
       "      <th>fixed acidity</th>\n",
       "      <th>citric acid</th>\n",
       "      <th>residual sugar</th>\n",
       "      <th>pH</th>\n",
       "      <th>sulphates</th>\n",
       "      <th>alcohol</th>\n",
       "    </tr>\n",
       "  </thead>\n",
       "  <tbody>\n",
       "    <tr>\n",
       "      <th>0</th>\n",
       "      <td>7.4</td>\n",
       "      <td>0.00</td>\n",
       "      <td>1.9</td>\n",
       "      <td>3.51</td>\n",
       "      <td>0.56</td>\n",
       "      <td>9.4</td>\n",
       "    </tr>\n",
       "    <tr>\n",
       "      <th>1</th>\n",
       "      <td>7.8</td>\n",
       "      <td>0.00</td>\n",
       "      <td>2.6</td>\n",
       "      <td>3.20</td>\n",
       "      <td>0.68</td>\n",
       "      <td>9.8</td>\n",
       "    </tr>\n",
       "    <tr>\n",
       "      <th>2</th>\n",
       "      <td>7.8</td>\n",
       "      <td>0.04</td>\n",
       "      <td>2.3</td>\n",
       "      <td>3.26</td>\n",
       "      <td>0.65</td>\n",
       "      <td>9.8</td>\n",
       "    </tr>\n",
       "    <tr>\n",
       "      <th>3</th>\n",
       "      <td>11.2</td>\n",
       "      <td>0.56</td>\n",
       "      <td>1.9</td>\n",
       "      <td>3.16</td>\n",
       "      <td>0.58</td>\n",
       "      <td>9.8</td>\n",
       "    </tr>\n",
       "    <tr>\n",
       "      <th>4</th>\n",
       "      <td>7.4</td>\n",
       "      <td>0.00</td>\n",
       "      <td>1.9</td>\n",
       "      <td>3.51</td>\n",
       "      <td>0.56</td>\n",
       "      <td>9.4</td>\n",
       "    </tr>\n",
       "  </tbody>\n",
       "</table>\n",
       "</div>"
      ],
      "text/plain": [
       "   fixed acidity  citric acid  residual sugar    pH  sulphates  alcohol\n",
       "0            7.4         0.00             1.9  3.51       0.56      9.4\n",
       "1            7.8         0.00             2.6  3.20       0.68      9.8\n",
       "2            7.8         0.04             2.3  3.26       0.65      9.8\n",
       "3           11.2         0.56             1.9  3.16       0.58      9.8\n",
       "4            7.4         0.00             1.9  3.51       0.56      9.4"
      ]
     },
     "execution_count": 28,
     "metadata": {},
     "output_type": "execute_result"
    }
   ],
   "source": [
    "from sklearn.naive_bayes import GaussianNB\n",
    "import statsmodels.api as sm\n",
    "from sklearn import metrics\n",
    "from sklearn.metrics import mean_squared_error\n",
    "from sklearn.linear_model import SGDClassifier\n",
    "from sklearn.calibration import CalibratedClassifierCV\n",
    "from sklearn.linear_model import RidgeClassifier\n",
    "from sklearn.ensemble import RandomForestClassifier\n",
    "from sklearn.linear_model import SGDRegressor\n",
    "from sklearn.pipeline import make_pipeline\n",
    "from sklearn.preprocessing import StandardScaler\n",
    "from sklearn import metrics\n",
    "from sklearn import linear_model\n",
    "\n",
    "import numpy as np\n",
    "import pandas as pd\n",
    "df=pd.read_csv('red_wine_quality.csv')\n",
    "\n",
    "#Defining x and y values\n",
    "df_x=df.drop(['alcohol'],axis=1).values\n",
    "df_y=df['alcohol'].values\n",
    "#x = dataSet.iloc[:,:-1]\n",
    "#y = dataSet.iloc[:,6]\n",
    "\n",
    "df.head()"
   ]
  },
  {
   "cell_type": "markdown",
   "metadata": {},
   "source": [
    "### Setting Up Linear Regression with Gradient Descent"
   ]
  },
  {
   "cell_type": "code",
   "execution_count": 29,
   "metadata": {},
   "outputs": [
    {
     "name": "stdout",
     "output_type": "stream",
     "text": [
      "Reg Coef [-0.01995432  1.64208084  0.02530217  2.51294299  0.48462978]\n",
      "Reg Intercept 1.4401995389703597 \n",
      "\n",
      "Prediction Using 3rd Row\n",
      "Reg Predict [9.91563757]\n"
     ]
    }
   ],
   "source": [
    "#LinearRegression will take in its fit method arrays X, y and will store the coefficients w  of the linear model in its coef_ member:\n",
    "\n",
    "reg = linear_model.LinearRegression()\n",
    "reg.fit(df_x,df.alcohol)\n",
    "\n",
    "print('Reg Coef',reg.coef_)\n",
    "print('Reg Intercept',reg.intercept_,'\\n')\n",
    "\n",
    "print('Prediction Using 3rd Row')\n",
    "print('Reg Predict', reg.predict([[7.8,0.04,2.3,3.26,0.65]]))"
   ]
  },
  {
   "cell_type": "markdown",
   "metadata": {},
   "source": [
    "### Splitting the dataset (80% training data/20% test data)"
   ]
  },
  {
   "cell_type": "code",
   "execution_count": 32,
   "metadata": {},
   "outputs": [],
   "source": [
    "from sklearn.model_selection import train_test_split\n",
    "\n",
    "#x_train,x_test,y_train,y_test=train_test_split(x, y, test_size=0.2,random_state=42)\n",
    "\n",
    "x_train,x_test,y_train,y_test=train_test_split(df_x, df_y, test_size=0.2,random_state=42)"
   ]
  },
  {
   "cell_type": "markdown",
   "metadata": {},
   "source": [
    "### Linear Regressiion (Training Data)"
   ]
  },
  {
   "cell_type": "code",
   "execution_count": 35,
   "metadata": {},
   "outputs": [
    {
     "name": "stdout",
     "output_type": "stream",
     "text": [
      "Reg Coef [-0.00519261  1.56242807  0.02038882  2.66047368  0.54077017]\n",
      "Reg Intercept 0.8160275538396817 \n",
      "\n"
     ]
    }
   ],
   "source": [
    "reg = linear_model.LinearRegression()\n",
    "reg.fit(x_train,y_train)\n",
    "\n",
    "print('Reg Coef',reg.coef_)\n",
    "print('Reg Intercept',reg.intercept_,'\\n')"
   ]
  },
  {
   "cell_type": "markdown",
   "metadata": {},
   "source": [
    "### Linear Regressiion (Test Data)"
   ]
  },
  {
   "cell_type": "code",
   "execution_count": 34,
   "metadata": {},
   "outputs": [
    {
     "name": "stdout",
     "output_type": "stream",
     "text": [
      "Reg Coef [-0.07826967  1.98696241  0.04974922  1.96355904  0.31743138]\n",
      "Reg Intercept 3.7389786622592487 \n",
      "\n"
     ]
    }
   ],
   "source": [
    "reg = linear_model.LinearRegression()\n",
    "reg.fit(x_test,y_test)\n",
    "\n",
    "print('Reg Coef',reg.coef_)\n",
    "print('Reg Intercept',reg.intercept_,'\\n')"
   ]
  },
  {
   "cell_type": "markdown",
   "metadata": {},
   "source": [
    "### Evaluation Metrics: (MSE, MAE, R2)"
   ]
  },
  {
   "cell_type": "code",
   "execution_count": 39,
   "metadata": {},
   "outputs": [
    {
     "name": "stdout",
     "output_type": "stream",
     "text": [
      "Evaluation Metrics Report\n",
      "Classification Report\n",
      "Confusion Matrix\n"
     ]
    }
   ],
   "source": [
    "print(\"Evaluation Metrics Report\")\n",
    "#model=sm.OLS(df_r,df_x).fit()\n",
    "#predictions =model.predict(x)\n",
    "\n",
    "#print_model=model.summary()\n",
    "#print(print_model)\n",
    "#predictions\n",
    "\n",
    "\n",
    "print(\"Classification Report\")\n",
    "#print(metrics.classification_report(y_test,y_predicted))\n",
    "\n",
    "print(\"Confusion Matrix\")\n",
    "#print(metrics.confusion_matrix(y_test,y_predicted))\n",
    "\n",
    "\n"
   ]
  },
  {
   "cell_type": "markdown",
   "metadata": {},
   "source": [
    "### Setting Up Ordinary Least Squares (OLS)"
   ]
  },
  {
   "cell_type": "code",
   "execution_count": 45,
   "metadata": {},
   "outputs": [
    {
     "name": "stdout",
     "output_type": "stream",
     "text": [
      "[0.00377267 1.65104831 0.0266639  2.87729519 0.52917232]\n"
     ]
    }
   ],
   "source": [
    "# w = parameter vector\n",
    "w = np.matmul(np.matmul(np.linalg.inv(np.matmul(np.array(df_x).transpose(), np.array(df_x))), df_x.transpose()), df_y)\n",
    "#print(np.array(w))\n",
    "\n",
    "# get predictions for y for training: matrix of input * w\n",
    "ols_y_train_predict = np.matmul(np.array(x_train), w)\n",
    "# print(ols_y_train_predict)\n",
    "\n",
    "# get predictions for y for testing: matrix of input * w\n",
    "ols_y_predict = np.matmul(np.array(x_test), w.transpose())\n",
    "#print(ols_y_predict)\n",
    "\n",
    "# -------------- Not from Scratch, Ignore -------------------\n",
    "# # get predictions for y for training\n",
    "# olsModel = sm.OLS(y_train, X_train)\n",
    "# olsResults = olsModel.fit()\n",
    "# ols_y_train_predict = olsResults.predict(X_train)\n",
    "\n",
    "# # get predictions for y for testing\n",
    "# olsModel2 = sm.OLS(y_test, X_test)\n",
    "# olsResults2 = olsModel2.fit()\n",
    "# ols_y_predict = olsResults2.predict(X_test)"
   ]
  }
 ],
 "metadata": {
  "kernelspec": {
   "display_name": "Python 3 (ipykernel)",
   "language": "python",
   "name": "python3"
  },
  "language_info": {
   "codemirror_mode": {
    "name": "ipython",
    "version": 3
   },
   "file_extension": ".py",
   "mimetype": "text/x-python",
   "name": "python",
   "nbconvert_exporter": "python",
   "pygments_lexer": "ipython3",
   "version": "3.10.4"
  },
  "vscode": {
   "interpreter": {
    "hash": "aee8b7b246df8f9039afb4144a1f6fd8d2ca17a180786b69acc140d282b71a49"
   }
  }
 },
 "nbformat": 4,
 "nbformat_minor": 4
}
